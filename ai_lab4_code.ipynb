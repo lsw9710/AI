{
 "cells": [
  {
   "cell_type": "markdown",
   "metadata": {},
   "source": [
    "# Lecture 4: Python Basic Course\n",
    "- # Functions, Sequence Data Types, Modules"
   ]
  },
  {
   "cell_type": "markdown",
   "metadata": {},
   "source": [
    "## Functions"
   ]
  },
  {
   "cell_type": "code",
   "execution_count": 25,
   "metadata": {},
   "outputs": [
    {
     "name": "stdout",
     "output_type": "stream",
     "text": [
      "23.8760992\n"
     ]
    }
   ],
   "source": [
    "radius = 3.8\n",
    "circ = 2 * 3.141592 * radius\n",
    "print(circ)"
   ]
  },
  {
   "cell_type": "code",
   "execution_count": 26,
   "metadata": {},
   "outputs": [
    {
     "data": {
      "text/plain": [
       "3.141592653589793"
      ]
     },
     "execution_count": 26,
     "metadata": {},
     "output_type": "execute_result"
    }
   ],
   "source": [
    "import math\n",
    "math.pi"
   ]
  },
  {
   "cell_type": "code",
   "execution_count": 27,
   "metadata": {},
   "outputs": [
    {
     "name": "stdout",
     "output_type": "stream",
     "text": [
      "23.876104167282428\n"
     ]
    }
   ],
   "source": [
    "circ = 2 * math.pi * radius\n",
    "print(circ)"
   ]
  },
  {
   "cell_type": "code",
   "execution_count": 28,
   "metadata": {},
   "outputs": [],
   "source": [
    "def calc_circ(radius):\n",
    "    circ = 2 * math.pi * radius\n",
    "    return circ"
   ]
  },
  {
   "cell_type": "code",
   "execution_count": 29,
   "metadata": {},
   "outputs": [
    {
     "data": {
      "text/plain": [
       "23.876104167282428"
      ]
     },
     "execution_count": 29,
     "metadata": {},
     "output_type": "execute_result"
    }
   ],
   "source": [
    "calc_circ(3.8)"
   ]
  },
  {
   "cell_type": "code",
   "execution_count": 30,
   "metadata": {},
   "outputs": [],
   "source": [
    "def loop():\n",
    "    for x in range(10):\n",
    "        print(x)\n",
    "        if x == 3:\n",
    "            return"
   ]
  },
  {
   "cell_type": "code",
   "execution_count": 31,
   "metadata": {},
   "outputs": [
    {
     "name": "stdout",
     "output_type": "stream",
     "text": [
      "0\n",
      "1\n",
      "2\n",
      "3\n"
     ]
    }
   ],
   "source": [
    "loop()"
   ]
  },
  {
   "cell_type": "code",
   "execution_count": 32,
   "metadata": {},
   "outputs": [],
   "source": [
    "def hello_world(): \n",
    "    print('Hello, world!')"
   ]
  },
  {
   "cell_type": "code",
   "execution_count": 33,
   "metadata": {},
   "outputs": [],
   "source": [
    "def hello_name(name):\n",
    "    # string formatting: more on this later. \n",
    "    return('Hello, {}!'.format(name))"
   ]
  },
  {
   "cell_type": "code",
   "execution_count": 34,
   "metadata": {},
   "outputs": [
    {
     "name": "stdout",
     "output_type": "stream",
     "text": [
      "Hello, world!\n"
     ]
    },
    {
     "data": {
      "text/plain": [
       "'Hello, DS & Programming!'"
      ]
     },
     "execution_count": 34,
     "metadata": {},
     "output_type": "execute_result"
    }
   ],
   "source": [
    "hello_world()\n",
    "hello_name('DS & Programming')"
   ]
  },
  {
   "cell_type": "code",
   "execution_count": 35,
   "metadata": {},
   "outputs": [],
   "source": [
    "def function1(x):\n",
    "    def function2(y):\n",
    "        print(y+2)\n",
    "        return y + 2\n",
    "    return 3*function2(x)"
   ]
  },
  {
   "cell_type": "code",
   "execution_count": 36,
   "metadata": {},
   "outputs": [
    {
     "name": "stdout",
     "output_type": "stream",
     "text": [
      "4\n",
      "12\n"
     ]
    }
   ],
   "source": [
    "a = function1(2)    # 4\n",
    "print(a)            # 12\n",
    "#b = function2(3)    # error: undefined name"
   ]
  },
  {
   "cell_type": "code",
   "execution_count": 37,
   "metadata": {},
   "outputs": [],
   "source": [
    "def add_one(x): \n",
    "    x=x+1       # local x\n",
    "    return x"
   ]
  },
  {
   "cell_type": "code",
   "execution_count": 38,
   "metadata": {},
   "outputs": [],
   "source": [
    "x = 1\n",
    "y = add_one(x)"
   ]
  },
  {
   "cell_type": "code",
   "execution_count": 39,
   "metadata": {},
   "outputs": [
    {
     "data": {
      "text/plain": [
       "1"
      ]
     },
     "execution_count": 39,
     "metadata": {},
     "output_type": "execute_result"
    }
   ],
   "source": [
    "x"
   ]
  },
  {
   "cell_type": "code",
   "execution_count": 40,
   "metadata": {},
   "outputs": [
    {
     "data": {
      "text/plain": [
       "2"
      ]
     },
     "execution_count": 40,
     "metadata": {},
     "output_type": "execute_result"
    }
   ],
   "source": [
    "y"
   ]
  },
  {
   "cell_type": "markdown",
   "metadata": {},
   "source": [
    "### Global Keyword"
   ]
  },
  {
   "cell_type": "code",
   "execution_count": 41,
   "metadata": {},
   "outputs": [],
   "source": [
    "x = 0"
   ]
  },
  {
   "cell_type": "code",
   "execution_count": 42,
   "metadata": {},
   "outputs": [],
   "source": [
    "def incr_x():\n",
    "    x=x+1       # does not work"
   ]
  },
  {
   "cell_type": "code",
   "execution_count": 43,
   "metadata": {},
   "outputs": [
    {
     "ename": "UnboundLocalError",
     "evalue": "local variable 'x' referenced before assignment",
     "output_type": "error",
     "traceback": [
      "\u001b[1;31m---------------------------------------------------------------------------\u001b[0m",
      "\u001b[1;31mUnboundLocalError\u001b[0m                         Traceback (most recent call last)",
      "\u001b[1;32mg:\\내 드라이브\\6. Lecture\\2022-1\\인공지능\\AI_Lec4\\ai_lab4_code.ipynb Cell 22'\u001b[0m in \u001b[0;36m<cell line: 1>\u001b[1;34m()\u001b[0m\n\u001b[1;32m----> <a href='vscode-notebook-cell:/g%3A/%EB%82%B4%20%EB%93%9C%EB%9D%BC%EC%9D%B4%EB%B8%8C/6.%20Lecture/2022-1/%EC%9D%B8%EA%B3%B5%EC%A7%80%EB%8A%A5/AI_Lec4/ai_lab4_code.ipynb#ch0000020?line=0'>1</a>\u001b[0m incr_x()\n",
      "\u001b[1;32mg:\\내 드라이브\\6. Lecture\\2022-1\\인공지능\\AI_Lec4\\ai_lab4_code.ipynb Cell 21'\u001b[0m in \u001b[0;36mincr_x\u001b[1;34m()\u001b[0m\n\u001b[0;32m      <a href='vscode-notebook-cell:/g%3A/%EB%82%B4%20%EB%93%9C%EB%9D%BC%EC%9D%B4%EB%B8%8C/6.%20Lecture/2022-1/%EC%9D%B8%EA%B3%B5%EC%A7%80%EB%8A%A5/AI_Lec4/ai_lab4_code.ipynb#ch0000019?line=0'>1</a>\u001b[0m \u001b[39mdef\u001b[39;00m \u001b[39mincr_x\u001b[39m():\n\u001b[1;32m----> <a href='vscode-notebook-cell:/g%3A/%EB%82%B4%20%EB%93%9C%EB%9D%BC%EC%9D%B4%EB%B8%8C/6.%20Lecture/2022-1/%EC%9D%B8%EA%B3%B5%EC%A7%80%EB%8A%A5/AI_Lec4/ai_lab4_code.ipynb#ch0000019?line=1'>2</a>\u001b[0m     x\u001b[39m=\u001b[39mx\u001b[39m+\u001b[39m\u001b[39m1\u001b[39m\n",
      "\u001b[1;31mUnboundLocalError\u001b[0m: local variable 'x' referenced before assignment"
     ]
    }
   ],
   "source": [
    "incr_x()"
   ]
  },
  {
   "cell_type": "code",
   "execution_count": 44,
   "metadata": {},
   "outputs": [],
   "source": [
    "def incr_x2(): \n",
    "    global x\n",
    "    x=x+1       # does work"
   ]
  },
  {
   "cell_type": "code",
   "execution_count": 45,
   "metadata": {},
   "outputs": [],
   "source": [
    "incr_x2()"
   ]
  },
  {
   "cell_type": "code",
   "execution_count": 46,
   "metadata": {},
   "outputs": [
    {
     "data": {
      "text/plain": [
       "1"
      ]
     },
     "execution_count": 46,
     "metadata": {},
     "output_type": "execute_result"
    }
   ],
   "source": [
    "x"
   ]
  },
  {
   "cell_type": "code",
   "execution_count": 47,
   "metadata": {},
   "outputs": [],
   "source": [
    "def f1(): \n",
    "    global x\n",
    "    x=x+1 \n",
    "    return x\n",
    "\n",
    "def f2(): \n",
    "    return x + 1\n",
    "\n",
    "def f3(): \n",
    "    x=5\n",
    "    return x + 1"
   ]
  },
  {
   "cell_type": "code",
   "execution_count": 48,
   "metadata": {},
   "outputs": [
    {
     "name": "stdout",
     "output_type": "stream",
     "text": [
      "1\n",
      "2\n",
      "6\n"
     ]
    }
   ],
   "source": [
    "x = 0\n",
    "print(f1())\n",
    "print(f2())\n",
    "print(f3())"
   ]
  },
  {
   "cell_type": "markdown",
   "metadata": {},
   "source": [
    "### Default Argument"
   ]
  },
  {
   "cell_type": "code",
   "execution_count": 49,
   "metadata": {},
   "outputs": [],
   "source": [
    "def func(x, a=1): \n",
    "    return x + a"
   ]
  },
  {
   "cell_type": "code",
   "execution_count": 50,
   "metadata": {},
   "outputs": [
    {
     "name": "stdout",
     "output_type": "stream",
     "text": [
      "2\n",
      "3\n"
     ]
    }
   ],
   "source": [
    "print(func(1))\n",
    "print(func(1, 2))"
   ]
  },
  {
   "cell_type": "code",
   "execution_count": 51,
   "metadata": {},
   "outputs": [],
   "source": [
    "def func(x, a=1, b=3): \n",
    "    return x + a - b"
   ]
  },
  {
   "cell_type": "code",
   "execution_count": 52,
   "metadata": {},
   "outputs": [
    {
     "name": "stdout",
     "output_type": "stream",
     "text": [
      "0\n",
      "4\n",
      "4\n"
     ]
    }
   ],
   "source": [
    "print(func(2))\n",
    "print(func(5, 2))\n",
    "print(func(3, b=0))"
   ]
  },
  {
   "cell_type": "markdown",
   "metadata": {},
   "source": [
    "#### Docstring"
   ]
  },
  {
   "cell_type": "code",
   "execution_count": 53,
   "metadata": {},
   "outputs": [],
   "source": [
    "def nothing():\n",
    "    \"\"\" This function doesn’t do anything. \"\"\" \n",
    "    pass"
   ]
  },
  {
   "cell_type": "code",
   "execution_count": 54,
   "metadata": {},
   "outputs": [
    {
     "name": "stdout",
     "output_type": "stream",
     "text": [
      "Help on function nothing in module __main__:\n",
      "\n",
      "nothing()\n",
      "    This function doesn’t do anything.\n",
      "\n"
     ]
    }
   ],
   "source": [
    "help(nothing)"
   ]
  },
  {
   "cell_type": "markdown",
   "metadata": {},
   "source": [
    "#### Example\n"
   ]
  },
  {
   "cell_type": "markdown",
   "metadata": {},
   "source": [
    "**예제**\n",
    "매일 온도를 측정하고 일주일 동안의 평균온도를 계산하고 출력하는 프로그램"
   ]
  },
  {
   "cell_type": "code",
   "execution_count": 55,
   "metadata": {},
   "outputs": [
    {
     "name": "stdout",
     "output_type": "stream",
     "text": [
      "평균 온도는 30.242857 입니다.\n"
     ]
    }
   ],
   "source": [
    "temps = [31, 32, 32.5, 28, 27, 27.2, 34]\n",
    "\n",
    "def calc_avg(temps):\n",
    "  sum = 0\n",
    "  for temp in temps:\n",
    "    sum += temp\n",
    "  \n",
    "  return sum / len(temps)\n",
    "\n",
    "result = calc_avg(temps)\n",
    "print(\"평균 온도는 %f 입니다.\" % result)\n"
   ]
  },
  {
   "cell_type": "markdown",
   "metadata": {},
   "source": [
    "매개변수의 개수가 계속 변하는 경우에는 매개변수 앞에 * 기호를 붙여서 해결"
   ]
  },
  {
   "cell_type": "code",
   "execution_count": 56,
   "metadata": {},
   "outputs": [
    {
     "name": "stdout",
     "output_type": "stream",
     "text": [
      "9\n",
      "105\n"
     ]
    }
   ],
   "source": [
    "def add_mul(choice, *args): \n",
    "  if choice == \"add\": \n",
    "    result = 0 \n",
    "    for i in args:\n",
    "      result = result + i\n",
    "  elif choice == \"mul\": \n",
    "    result = 1 \n",
    "    for i in args: \n",
    "      result = result * i \n",
    "  return result \n",
    "\n",
    "result1 = add_mul(\"add\", 1,3,5)\n",
    "print(result1)\n",
    "result2 = add_mul('mul', 1,3,5,7)\n",
    "print(result2)"
   ]
  },
  {
   "cell_type": "markdown",
   "metadata": {},
   "source": [
    "## Sequence Data Types\n",
    "* List\n",
    "* Tuple\n",
    "* Dictionary\n",
    "* String"
   ]
  },
  {
   "cell_type": "code",
   "execution_count": 58,
   "metadata": {},
   "outputs": [],
   "source": [
    "myList = [124, 0.124, 'hi']"
   ]
  },
  {
   "cell_type": "code",
   "execution_count": 59,
   "metadata": {},
   "outputs": [
    {
     "data": {
      "text/plain": [
       "[124, 0.124]"
      ]
     },
     "execution_count": 59,
     "metadata": {},
     "output_type": "execute_result"
    }
   ],
   "source": [
    "myList[0:2]"
   ]
  },
  {
   "cell_type": "code",
   "execution_count": 60,
   "metadata": {
    "collapsed": true
   },
   "outputs": [],
   "source": [
    "mySecondList = ['a', '3']"
   ]
  },
  {
   "cell_type": "code",
   "execution_count": 61,
   "metadata": {
    "collapsed": true
   },
   "outputs": [],
   "source": [
    "cancatList = myList + mySecondList"
   ]
  },
  {
   "cell_type": "code",
   "execution_count": 62,
   "metadata": {},
   "outputs": [
    {
     "data": {
      "text/plain": [
       "[124, 0.124, 'hi', 'a', '3']"
      ]
     },
     "execution_count": 62,
     "metadata": {},
     "output_type": "execute_result"
    }
   ],
   "source": [
    "cancatList"
   ]
  },
  {
   "cell_type": "markdown",
   "metadata": {},
   "source": [
    "#### Copying a List"
   ]
  },
  {
   "cell_type": "code",
   "execution_count": 63,
   "metadata": {
    "collapsed": true
   },
   "outputs": [],
   "source": [
    "a = ['a', 'b', 'c']"
   ]
  },
  {
   "cell_type": "code",
   "execution_count": 64,
   "metadata": {
    "collapsed": true
   },
   "outputs": [],
   "source": [
    "b = a"
   ]
  },
  {
   "cell_type": "code",
   "execution_count": 65,
   "metadata": {},
   "outputs": [
    {
     "name": "stdout",
     "output_type": "stream",
     "text": [
      "['a', 'b', 'c']\n"
     ]
    }
   ],
   "source": [
    "print(b)"
   ]
  },
  {
   "cell_type": "code",
   "execution_count": 66,
   "metadata": {
    "collapsed": true
   },
   "outputs": [],
   "source": [
    "b[1] = 1"
   ]
  },
  {
   "cell_type": "code",
   "execution_count": 67,
   "metadata": {},
   "outputs": [
    {
     "name": "stdout",
     "output_type": "stream",
     "text": [
      "['a', 1, 'c']\n"
     ]
    }
   ],
   "source": [
    "print(b)"
   ]
  },
  {
   "cell_type": "code",
   "execution_count": 68,
   "metadata": {},
   "outputs": [
    {
     "name": "stdout",
     "output_type": "stream",
     "text": [
      "['a', 1, 'c']\n"
     ]
    }
   ],
   "source": [
    "print(a)"
   ]
  },
  {
   "cell_type": "code",
   "execution_count": 69,
   "metadata": {
    "collapsed": true
   },
   "outputs": [],
   "source": [
    "a = [1,2,3]"
   ]
  },
  {
   "cell_type": "code",
   "execution_count": 70,
   "metadata": {
    "collapsed": true
   },
   "outputs": [],
   "source": [
    "b = a"
   ]
  },
  {
   "cell_type": "code",
   "execution_count": 71,
   "metadata": {
    "collapsed": true
   },
   "outputs": [],
   "source": [
    "c = list(a)"
   ]
  },
  {
   "cell_type": "code",
   "execution_count": 72,
   "metadata": {},
   "outputs": [
    {
     "name": "stdout",
     "output_type": "stream",
     "text": [
      "[1, 2, 3]\n"
     ]
    }
   ],
   "source": [
    "print(a)"
   ]
  },
  {
   "cell_type": "code",
   "execution_count": 73,
   "metadata": {},
   "outputs": [
    {
     "name": "stdout",
     "output_type": "stream",
     "text": [
      "[1, 2, 3]\n"
     ]
    }
   ],
   "source": [
    "print(b)"
   ]
  },
  {
   "cell_type": "code",
   "execution_count": 74,
   "metadata": {},
   "outputs": [
    {
     "name": "stdout",
     "output_type": "stream",
     "text": [
      "[1, 2, 3]\n"
     ]
    }
   ],
   "source": [
    "print(c)"
   ]
  },
  {
   "cell_type": "code",
   "execution_count": 75,
   "metadata": {},
   "outputs": [
    {
     "name": "stdout",
     "output_type": "stream",
     "text": [
      "2090897233088 2090897233088 2090897237952\n"
     ]
    }
   ],
   "source": [
    "print(id(a), id(b), id(c))"
   ]
  },
  {
   "cell_type": "markdown",
   "metadata": {},
   "source": [
    "#### Function modify lists"
   ]
  },
  {
   "cell_type": "code",
   "execution_count": 76,
   "metadata": {
    "collapsed": true
   },
   "outputs": [],
   "source": [
    "def set_first_to_zero(xs): \n",
    "    xs[0] = 0"
   ]
  },
  {
   "cell_type": "code",
   "execution_count": 77,
   "metadata": {
    "collapsed": true
   },
   "outputs": [],
   "source": [
    "l = [1, 2, 3]"
   ]
  },
  {
   "cell_type": "code",
   "execution_count": 78,
   "metadata": {},
   "outputs": [
    {
     "name": "stdout",
     "output_type": "stream",
     "text": [
      "[1, 2, 3]\n"
     ]
    }
   ],
   "source": [
    "print(l)"
   ]
  },
  {
   "cell_type": "code",
   "execution_count": 79,
   "metadata": {},
   "outputs": [],
   "source": [
    "set_first_to_zero(l)"
   ]
  },
  {
   "cell_type": "code",
   "execution_count": 80,
   "metadata": {},
   "outputs": [
    {
     "name": "stdout",
     "output_type": "stream",
     "text": [
      "[0, 2, 3]\n"
     ]
    }
   ],
   "source": [
    "print(l)"
   ]
  },
  {
   "cell_type": "code",
   "execution_count": 81,
   "metadata": {
    "collapsed": true
   },
   "outputs": [],
   "source": [
    "def list_function(xs): \n",
    "    xs = [2, 3, 4]\n",
    "    return xs"
   ]
  },
  {
   "cell_type": "code",
   "execution_count": 82,
   "metadata": {
    "collapsed": true
   },
   "outputs": [],
   "source": [
    "l = [1, 2, 3]"
   ]
  },
  {
   "cell_type": "code",
   "execution_count": 83,
   "metadata": {},
   "outputs": [
    {
     "name": "stdout",
     "output_type": "stream",
     "text": [
      "[2, 3, 4]\n"
     ]
    }
   ],
   "source": [
    "print(list_function(l))"
   ]
  },
  {
   "cell_type": "code",
   "execution_count": 84,
   "metadata": {},
   "outputs": [
    {
     "name": "stdout",
     "output_type": "stream",
     "text": [
      "[1, 2, 3]\n"
     ]
    }
   ],
   "source": [
    "print(l)"
   ]
  },
  {
   "cell_type": "code",
   "execution_count": 85,
   "metadata": {
    "collapsed": true
   },
   "outputs": [],
   "source": [
    "def list_function(xs): \n",
    "    xs[0] = 2\n",
    "    xs[1] = 3\n",
    "    xs[2] = 4"
   ]
  },
  {
   "cell_type": "code",
   "execution_count": 86,
   "metadata": {
    "collapsed": true
   },
   "outputs": [],
   "source": [
    "l = [1, 2, 3]"
   ]
  },
  {
   "cell_type": "code",
   "execution_count": 87,
   "metadata": {
    "collapsed": true
   },
   "outputs": [],
   "source": [
    "list_function(l)"
   ]
  },
  {
   "cell_type": "code",
   "execution_count": 88,
   "metadata": {},
   "outputs": [
    {
     "name": "stdout",
     "output_type": "stream",
     "text": [
      "[2, 3, 4]\n"
     ]
    }
   ],
   "source": [
    "print(l)"
   ]
  },
  {
   "cell_type": "markdown",
   "metadata": {},
   "source": [
    "#### Loop over Elements"
   ]
  },
  {
   "cell_type": "code",
   "execution_count": 89,
   "metadata": {
    "collapsed": true
   },
   "outputs": [],
   "source": [
    "someIntegers = [1, 3, 10]"
   ]
  },
  {
   "cell_type": "code",
   "execution_count": 90,
   "metadata": {},
   "outputs": [
    {
     "name": "stdout",
     "output_type": "stream",
     "text": [
      "1 3 10 "
     ]
    }
   ],
   "source": [
    "for integer in someIntegers: \n",
    "    print(integer, end=\" \")"
   ]
  },
  {
   "cell_type": "code",
   "execution_count": 91,
   "metadata": {
    "collapsed": true
   },
   "outputs": [],
   "source": [
    "for integer in someIntegers:\n",
    "    integer = integer*2"
   ]
  },
  {
   "cell_type": "code",
   "execution_count": 92,
   "metadata": {},
   "outputs": [
    {
     "data": {
      "text/plain": [
       "20"
      ]
     },
     "execution_count": 92,
     "metadata": {},
     "output_type": "execute_result"
    }
   ],
   "source": [
    "integer"
   ]
  },
  {
   "cell_type": "code",
   "execution_count": 93,
   "metadata": {
    "collapsed": true
   },
   "outputs": [],
   "source": [
    "myList = [1, 2, 4]"
   ]
  },
  {
   "cell_type": "code",
   "execution_count": 94,
   "metadata": {},
   "outputs": [
    {
     "data": {
      "text/plain": [
       "[(0, 1), (1, 2), (2, 4)]"
      ]
     },
     "execution_count": 94,
     "metadata": {},
     "output_type": "execute_result"
    }
   ],
   "source": [
    "list(enumerate(myList))"
   ]
  },
  {
   "cell_type": "code",
   "execution_count": 95,
   "metadata": {},
   "outputs": [
    {
     "name": "stdout",
     "output_type": "stream",
     "text": [
      "0) 1\n",
      "1) 2\n",
      "2) 4\n"
     ]
    }
   ],
   "source": [
    "for index, elem in enumerate(myList):\n",
    "    print('{}) {}'.format(index, elem))"
   ]
  },
  {
   "cell_type": "markdown",
   "metadata": {},
   "source": [
    "#### List Comprehensions\n"
   ]
  },
  {
   "cell_type": "code",
   "execution_count": 96,
   "metadata": {},
   "outputs": [
    {
     "name": "stdout",
     "output_type": "stream",
     "text": [
      "[0, 1, 4, 9, 16]\n"
     ]
    }
   ],
   "source": [
    "print([i**2 for i in range(5)])"
   ]
  },
  {
   "cell_type": "code",
   "execution_count": 97,
   "metadata": {
    "collapsed": true
   },
   "outputs": [],
   "source": [
    "ints = [1, 3, 10]"
   ]
  },
  {
   "cell_type": "code",
   "execution_count": 98,
   "metadata": {},
   "outputs": [
    {
     "data": {
      "text/plain": [
       "[2, 6, 20]"
      ]
     },
     "execution_count": 98,
     "metadata": {},
     "output_type": "execute_result"
    }
   ],
   "source": [
    "[i * 2 for i in ints]"
   ]
  },
  {
   "cell_type": "code",
   "execution_count": 99,
   "metadata": {},
   "outputs": [
    {
     "data": {
      "text/plain": [
       "[[1, 3], [1, 10], [3, 1], [3, 10], [10, 1], [10, 3]]"
      ]
     },
     "execution_count": 99,
     "metadata": {},
     "output_type": "execute_result"
    }
   ],
   "source": [
    "[[i, j] for i in ints for j in ints if i != j]"
   ]
  },
  {
   "cell_type": "code",
   "execution_count": 100,
   "metadata": {},
   "outputs": [
    {
     "data": {
      "text/plain": [
       "[(0, 0), (1, 0), (1, 1), (2, 0), (2, 1), (2, 2)]"
      ]
     },
     "execution_count": 100,
     "metadata": {},
     "output_type": "execute_result"
    }
   ],
   "source": [
    "[(x, y) for x in range(3) for y in range(x+1)]"
   ]
  },
  {
   "cell_type": "markdown",
   "metadata": {},
   "source": [
    "* Runtime 비교"
   ]
  },
  {
   "cell_type": "code",
   "execution_count": 101,
   "metadata": {
    "collapsed": true
   },
   "outputs": [],
   "source": [
    "import timeit"
   ]
  },
  {
   "cell_type": "code",
   "execution_count": 102,
   "metadata": {
    "collapsed": true
   },
   "outputs": [],
   "source": [
    "#Method 1: For-Loop\n",
    "def square_for(arr):\n",
    "    result = []\n",
    "    for i in arr:\n",
    "        result.append(i**2)\n",
    "    return result"
   ]
  },
  {
   "cell_type": "code",
   "execution_count": 103,
   "metadata": {},
   "outputs": [
    {
     "data": {
      "text/plain": [
       "1.7971391000319272"
      ]
     },
     "execution_count": 103,
     "metadata": {},
     "output_type": "execute_result"
    }
   ],
   "source": [
    "timeit.timeit('square_for(range(1,11))',setup = \"from __main__ import square_for\", number = 1000000)"
   ]
  },
  {
   "cell_type": "code",
   "execution_count": 104,
   "metadata": {
    "collapsed": true
   },
   "outputs": [],
   "source": [
    "#Method 2: List comprehension:\n",
    "def square_lc(arr):\n",
    "    return [i**2 for i in arr]"
   ]
  },
  {
   "cell_type": "markdown",
   "metadata": {},
   "source": [
    "#### Tuple"
   ]
  },
  {
   "cell_type": "code",
   "execution_count": 105,
   "metadata": {},
   "outputs": [],
   "source": [
    "t = 1, 2, 3\n",
    "x, y, z = t"
   ]
  },
  {
   "cell_type": "code",
   "execution_count": 106,
   "metadata": {},
   "outputs": [
    {
     "data": {
      "text/plain": [
       "tuple"
      ]
     },
     "execution_count": 106,
     "metadata": {},
     "output_type": "execute_result"
    }
   ],
   "source": [
    "type(t)"
   ]
  },
  {
   "cell_type": "code",
   "execution_count": 107,
   "metadata": {},
   "outputs": [
    {
     "name": "stdout",
     "output_type": "stream",
     "text": [
      "(1, 2, 3)\n",
      "2\n"
     ]
    }
   ],
   "source": [
    "print(t)\n",
    "print(y)"
   ]
  },
  {
   "cell_type": "code",
   "execution_count": 108,
   "metadata": {
    "collapsed": true
   },
   "outputs": [],
   "source": [
    "def simple_function(): \n",
    "    return 0, 1, 2"
   ]
  },
  {
   "cell_type": "code",
   "execution_count": 109,
   "metadata": {},
   "outputs": [
    {
     "name": "stdout",
     "output_type": "stream",
     "text": [
      "(0, 1, 2)\n"
     ]
    }
   ],
   "source": [
    "print(simple_function())"
   ]
  },
  {
   "cell_type": "markdown",
   "metadata": {},
   "source": [
    "#### Dictionary"
   ]
  },
  {
   "cell_type": "code",
   "execution_count": 110,
   "metadata": {
    "collapsed": true
   },
   "outputs": [],
   "source": [
    "d = {1: 'one', 2: 'two'}"
   ]
  },
  {
   "cell_type": "code",
   "execution_count": 111,
   "metadata": {},
   "outputs": [
    {
     "name": "stdout",
     "output_type": "stream",
     "text": [
      "one\n"
     ]
    }
   ],
   "source": [
    "print(d[1])"
   ]
  },
  {
   "cell_type": "code",
   "execution_count": 112,
   "metadata": {},
   "outputs": [
    {
     "data": {
      "text/plain": [
       "True"
      ]
     },
     "execution_count": 112,
     "metadata": {},
     "output_type": "execute_result"
    }
   ],
   "source": [
    "1 in d"
   ]
  },
  {
   "cell_type": "code",
   "execution_count": 113,
   "metadata": {
    "collapsed": true
   },
   "outputs": [],
   "source": [
    "d = {1: 'one', 2: 'two', 3: 'three'}"
   ]
  },
  {
   "cell_type": "code",
   "execution_count": 114,
   "metadata": {},
   "outputs": [
    {
     "data": {
      "text/plain": [
       "{1: 'one', 2: 'two', 3: 'three'}"
      ]
     },
     "execution_count": 114,
     "metadata": {},
     "output_type": "execute_result"
    }
   ],
   "source": [
    "d"
   ]
  },
  {
   "cell_type": "code",
   "execution_count": 115,
   "metadata": {},
   "outputs": [
    {
     "data": {
      "text/plain": [
       "dict_keys([1, 2, 3])"
      ]
     },
     "execution_count": 115,
     "metadata": {},
     "output_type": "execute_result"
    }
   ],
   "source": [
    "d.keys()"
   ]
  },
  {
   "cell_type": "code",
   "execution_count": 116,
   "metadata": {},
   "outputs": [
    {
     "data": {
      "text/plain": [
       "dict_values(['one', 'two', 'three'])"
      ]
     },
     "execution_count": 116,
     "metadata": {},
     "output_type": "execute_result"
    }
   ],
   "source": [
    "d.values()"
   ]
  },
  {
   "cell_type": "code",
   "execution_count": 117,
   "metadata": {},
   "outputs": [
    {
     "data": {
      "text/plain": [
       "dict_items([(1, 'one'), (2, 'two'), (3, 'three')])"
      ]
     },
     "execution_count": 117,
     "metadata": {},
     "output_type": "execute_result"
    }
   ],
   "source": [
    "d.items()"
   ]
  },
  {
   "cell_type": "code",
   "execution_count": 118,
   "metadata": {
    "collapsed": true
   },
   "outputs": [],
   "source": [
    "phone_ext={'david':1410, 'brad':1137}"
   ]
  },
  {
   "cell_type": "code",
   "execution_count": 119,
   "metadata": {},
   "outputs": [
    {
     "data": {
      "text/plain": [
       "{'david': 1410, 'brad': 1137}"
      ]
     },
     "execution_count": 119,
     "metadata": {},
     "output_type": "execute_result"
    }
   ],
   "source": [
    "phone_ext"
   ]
  },
  {
   "cell_type": "code",
   "execution_count": 120,
   "metadata": {},
   "outputs": [
    {
     "data": {
      "text/plain": [
       "dict_keys(['david', 'brad'])"
      ]
     },
     "execution_count": 120,
     "metadata": {},
     "output_type": "execute_result"
    }
   ],
   "source": [
    "phone_ext.keys() # Returns the keys of the dictionary phone_ext"
   ]
  },
  {
   "cell_type": "code",
   "execution_count": 121,
   "metadata": {},
   "outputs": [
    {
     "data": {
      "text/plain": [
       "['david', 'brad']"
      ]
     },
     "execution_count": 121,
     "metadata": {},
     "output_type": "execute_result"
    }
   ],
   "source": [
    "list(phone_ext.keys())"
   ]
  },
  {
   "cell_type": "code",
   "execution_count": 122,
   "metadata": {},
   "outputs": [
    {
     "data": {
      "text/plain": [
       "True"
      ]
     },
     "execution_count": 122,
     "metadata": {},
     "output_type": "execute_result"
    }
   ],
   "source": [
    "\"brad\" in phone_ext"
   ]
  },
  {
   "cell_type": "code",
   "execution_count": 123,
   "metadata": {},
   "outputs": [
    {
     "data": {
      "text/plain": [
       "False"
      ]
     },
     "execution_count": 123,
     "metadata": {},
     "output_type": "execute_result"
    }
   ],
   "source": [
    "1137 in phone_ext"
   ]
  },
  {
   "cell_type": "code",
   "execution_count": 124,
   "metadata": {},
   "outputs": [
    {
     "data": {
      "text/plain": [
       "dict_values([1410, 1137])"
      ]
     },
     "execution_count": 124,
     "metadata": {},
     "output_type": "execute_result"
    }
   ],
   "source": [
    "phone_ext.values() # Returns the values of the dictionary phone_ext"
   ]
  },
  {
   "cell_type": "code",
   "execution_count": 125,
   "metadata": {},
   "outputs": [
    {
     "data": {
      "text/plain": [
       "[1410, 1137]"
      ]
     },
     "execution_count": 125,
     "metadata": {},
     "output_type": "execute_result"
    }
   ],
   "source": [
    "list(phone_ext.values())"
   ]
  },
  {
   "cell_type": "code",
   "execution_count": 126,
   "metadata": {},
   "outputs": [
    {
     "data": {
      "text/plain": [
       "dict_items([('david', 1410), ('brad', 1137)])"
      ]
     },
     "execution_count": 126,
     "metadata": {},
     "output_type": "execute_result"
    }
   ],
   "source": [
    "phone_ext.items()"
   ]
  },
  {
   "cell_type": "code",
   "execution_count": 127,
   "metadata": {},
   "outputs": [
    {
     "data": {
      "text/plain": [
       "[('david', 1410), ('brad', 1137)]"
      ]
     },
     "execution_count": 127,
     "metadata": {},
     "output_type": "execute_result"
    }
   ],
   "source": [
    "list(phone_ext.items())"
   ]
  },
  {
   "cell_type": "code",
   "execution_count": 128,
   "metadata": {
    "collapsed": true
   },
   "outputs": [],
   "source": [
    "phone_ext.get(\"kent\")"
   ]
  },
  {
   "cell_type": "code",
   "execution_count": 129,
   "metadata": {},
   "outputs": [
    {
     "data": {
      "text/plain": [
       "'NO ENTRY'"
      ]
     },
     "execution_count": 129,
     "metadata": {},
     "output_type": "execute_result"
    }
   ],
   "source": [
    "phone_ext.get(\"kent\",\"NO ENTRY\")"
   ]
  },
  {
   "cell_type": "code",
   "execution_count": 130,
   "metadata": {},
   "outputs": [],
   "source": [
    "del phone_ext[\"david\"]"
   ]
  },
  {
   "cell_type": "code",
   "execution_count": 131,
   "metadata": {},
   "outputs": [
    {
     "data": {
      "text/plain": [
       "{'brad': 1137}"
      ]
     },
     "execution_count": 131,
     "metadata": {},
     "output_type": "execute_result"
    }
   ],
   "source": [
    "phone_ext"
   ]
  },
  {
   "cell_type": "markdown",
   "metadata": {},
   "source": [
    "#### String Formatting"
   ]
  },
  {
   "cell_type": "code",
   "execution_count": 132,
   "metadata": {
    "collapsed": true
   },
   "outputs": [],
   "source": [
    "fl = 0.23\n",
    "wo = 'Hello'\n",
    "inte = 12"
   ]
  },
  {
   "cell_type": "code",
   "execution_count": 133,
   "metadata": {},
   "outputs": [
    {
     "name": "stdout",
     "output_type": "stream",
     "text": [
      "s: Hello \t f: 0.2 \n",
      " i: 12\n"
     ]
    }
   ],
   "source": [
    "print(\"s: %s \\t f: %0.1f \\n i: %d\" % (wo, fl, inte))"
   ]
  },
  {
   "cell_type": "code",
   "execution_count": 134,
   "metadata": {},
   "outputs": [
    {
     "name": "stdout",
     "output_type": "stream",
     "text": [
      "s: Hello \t f: 0.2 \n",
      " i: 12\n"
     ]
    }
   ],
   "source": [
    "print(\"s: {} \\t f: {:0.1f} \\n i: {}\".format(wo, fl, inte))"
   ]
  },
  {
   "cell_type": "markdown",
   "metadata": {},
   "source": [
    "#### Split"
   ]
  },
  {
   "cell_type": "code",
   "execution_count": 135,
   "metadata": {
    "collapsed": true
   },
   "outputs": [
    {
     "name": "stdout",
     "output_type": "stream",
     "text": [
      "Hello, world! How are you?\n"
     ]
    }
   ],
   "source": [
    "text = 'Hello, world! How are you?'\n",
    "print(text)"
   ]
  },
  {
   "cell_type": "code",
   "execution_count": 136,
   "metadata": {},
   "outputs": [
    {
     "data": {
      "text/plain": [
       "['Hello,', 'world!', 'How', 'are', 'you?']"
      ]
     },
     "execution_count": 136,
     "metadata": {},
     "output_type": "execute_result"
    }
   ],
   "source": [
    "text.split()"
   ]
  },
  {
   "cell_type": "code",
   "execution_count": 137,
   "metadata": {
    "collapsed": true
   },
   "outputs": [],
   "source": [
    "numbers = '1, 3, 2, 5'"
   ]
  },
  {
   "cell_type": "code",
   "execution_count": 138,
   "metadata": {},
   "outputs": [
    {
     "data": {
      "text/plain": [
       "['1,', '3,', '2,', '5']"
      ]
     },
     "execution_count": 138,
     "metadata": {},
     "output_type": "execute_result"
    }
   ],
   "source": [
    "numbers.split()"
   ]
  },
  {
   "cell_type": "code",
   "execution_count": 139,
   "metadata": {},
   "outputs": [
    {
     "data": {
      "text/plain": [
       "['1', '3', '2', '5']"
      ]
     },
     "execution_count": 139,
     "metadata": {},
     "output_type": "execute_result"
    }
   ],
   "source": [
    "numbers.split(', ')"
   ]
  },
  {
   "cell_type": "code",
   "execution_count": 140,
   "metadata": {},
   "outputs": [
    {
     "data": {
      "text/plain": [
       "[1, 3, 2, 5]"
      ]
     },
     "execution_count": 140,
     "metadata": {},
     "output_type": "execute_result"
    }
   ],
   "source": [
    "[int(i) for i in numbers.split(', ')]"
   ]
  },
  {
   "cell_type": "markdown",
   "metadata": {},
   "source": [
    "## Modules\n"
   ]
  },
  {
   "cell_type": "code",
   "execution_count": 141,
   "metadata": {},
   "outputs": [],
   "source": [
    "import math"
   ]
  },
  {
   "cell_type": "code",
   "execution_count": 142,
   "metadata": {},
   "outputs": [
    {
     "data": {
      "text/plain": [
       "3.141592653589793"
      ]
     },
     "execution_count": 142,
     "metadata": {},
     "output_type": "execute_result"
    }
   ],
   "source": [
    "math.pi"
   ]
  },
  {
   "cell_type": "code",
   "execution_count": 143,
   "metadata": {},
   "outputs": [
    {
     "data": {
      "text/plain": [
       "1.4142135623730951"
      ]
     },
     "execution_count": 143,
     "metadata": {},
     "output_type": "execute_result"
    }
   ],
   "source": [
    "math.sqrt(2)"
   ]
  },
  {
   "cell_type": "code",
   "execution_count": 144,
   "metadata": {},
   "outputs": [],
   "source": [
    "import math as m"
   ]
  },
  {
   "cell_type": "code",
   "execution_count": 145,
   "metadata": {},
   "outputs": [
    {
     "data": {
      "text/plain": [
       "1.4142135623730951"
      ]
     },
     "execution_count": 145,
     "metadata": {},
     "output_type": "execute_result"
    }
   ],
   "source": [
    "m.sqrt(2)"
   ]
  },
  {
   "cell_type": "code",
   "execution_count": 146,
   "metadata": {},
   "outputs": [],
   "source": [
    "from math import sqrt"
   ]
  },
  {
   "cell_type": "code",
   "execution_count": 147,
   "metadata": {},
   "outputs": [
    {
     "data": {
      "text/plain": [
       "1.4142135623730951"
      ]
     },
     "execution_count": 147,
     "metadata": {},
     "output_type": "execute_result"
    }
   ],
   "source": [
    "sqrt(2)"
   ]
  },
  {
   "cell_type": "code",
   "execution_count": 148,
   "metadata": {},
   "outputs": [],
   "source": [
    "from math import *"
   ]
  },
  {
   "cell_type": "code",
   "execution_count": 149,
   "metadata": {},
   "outputs": [
    {
     "data": {
      "text/plain": [
       "1.4142135623730951"
      ]
     },
     "execution_count": 149,
     "metadata": {},
     "output_type": "execute_result"
    }
   ],
   "source": [
    "sqrt(2)"
   ]
  },
  {
   "cell_type": "markdown",
   "metadata": {},
   "source": [
    "### Numpy\n"
   ]
  },
  {
   "cell_type": "markdown",
   "metadata": {},
   "source": [
    "* Basics"
   ]
  },
  {
   "cell_type": "code",
   "execution_count": 150,
   "metadata": {},
   "outputs": [],
   "source": [
    "import numpy as np"
   ]
  },
  {
   "cell_type": "code",
   "execution_count": 151,
   "metadata": {},
   "outputs": [],
   "source": [
    "A = np.array([[1, 2, 3], [4, 5, 6]])"
   ]
  },
  {
   "cell_type": "code",
   "execution_count": 152,
   "metadata": {},
   "outputs": [
    {
     "name": "stdout",
     "output_type": "stream",
     "text": [
      "[[1 2 3]\n",
      " [4 5 6]]\n"
     ]
    }
   ],
   "source": [
    "print(A)"
   ]
  },
  {
   "cell_type": "code",
   "execution_count": 153,
   "metadata": {},
   "outputs": [],
   "source": [
    "Af = np.array([1, 2, 3], dtype=float)"
   ]
  },
  {
   "cell_type": "code",
   "execution_count": 154,
   "metadata": {},
   "outputs": [
    {
     "name": "stdout",
     "output_type": "stream",
     "text": [
      "[1. 2. 3.]\n"
     ]
    }
   ],
   "source": [
    "print(Af)"
   ]
  },
  {
   "cell_type": "code",
   "execution_count": 155,
   "metadata": {},
   "outputs": [],
   "source": [
    "Af = np.array([1., 2., 3.])"
   ]
  },
  {
   "cell_type": "code",
   "execution_count": 156,
   "metadata": {},
   "outputs": [
    {
     "name": "stdout",
     "output_type": "stream",
     "text": [
      "[1. 2. 3.]\n"
     ]
    }
   ],
   "source": [
    "print(Af)"
   ]
  },
  {
   "cell_type": "code",
   "execution_count": 157,
   "metadata": {},
   "outputs": [
    {
     "data": {
      "text/plain": [
       "array([0, 1, 2, 3, 4])"
      ]
     },
     "execution_count": 157,
     "metadata": {},
     "output_type": "execute_result"
    }
   ],
   "source": [
    "np.arange(5)"
   ]
  },
  {
   "cell_type": "code",
   "execution_count": 158,
   "metadata": {},
   "outputs": [
    {
     "data": {
      "text/plain": [
       "array([2, 3, 4, 5, 6, 7])"
      ]
     },
     "execution_count": 158,
     "metadata": {},
     "output_type": "execute_result"
    }
   ],
   "source": [
    "np.arange(2,8)"
   ]
  },
  {
   "cell_type": "code",
   "execution_count": 159,
   "metadata": {},
   "outputs": [
    {
     "data": {
      "text/plain": [
       "array([0. , 0.2, 0.4, 0.6, 0.8])"
      ]
     },
     "execution_count": 159,
     "metadata": {},
     "output_type": "execute_result"
    }
   ],
   "source": [
    "np.arange(0, 1, 0.2)"
   ]
  },
  {
   "cell_type": "code",
   "execution_count": 160,
   "metadata": {},
   "outputs": [
    {
     "data": {
      "text/plain": [
       "array([0.        , 2.0943951 , 4.1887902 , 6.28318531])"
      ]
     },
     "execution_count": 160,
     "metadata": {},
     "output_type": "execute_result"
    }
   ],
   "source": [
    "np.linspace(0, 2*np.pi, 4)"
   ]
  },
  {
   "cell_type": "code",
   "execution_count": 161,
   "metadata": {},
   "outputs": [],
   "source": [
    "A = np.zeros((2,3))"
   ]
  },
  {
   "cell_type": "code",
   "execution_count": 162,
   "metadata": {},
   "outputs": [
    {
     "data": {
      "text/plain": [
       "array([[0., 0., 0.],\n",
       "       [0., 0., 0.]])"
      ]
     },
     "execution_count": 162,
     "metadata": {},
     "output_type": "execute_result"
    }
   ],
   "source": [
    "A"
   ]
  },
  {
   "cell_type": "code",
   "execution_count": 163,
   "metadata": {},
   "outputs": [],
   "source": [
    "B = np.ones((2,3))"
   ]
  },
  {
   "cell_type": "code",
   "execution_count": 164,
   "metadata": {},
   "outputs": [
    {
     "data": {
      "text/plain": [
       "array([[1., 1., 1.],\n",
       "       [1., 1., 1.]])"
      ]
     },
     "execution_count": 164,
     "metadata": {},
     "output_type": "execute_result"
    }
   ],
   "source": [
    "B"
   ]
  },
  {
   "cell_type": "code",
   "execution_count": 165,
   "metadata": {},
   "outputs": [],
   "source": [
    "C = np.diag((2,3))"
   ]
  },
  {
   "cell_type": "code",
   "execution_count": 166,
   "metadata": {},
   "outputs": [
    {
     "data": {
      "text/plain": [
       "array([[2, 0],\n",
       "       [0, 3]])"
      ]
     },
     "execution_count": 166,
     "metadata": {},
     "output_type": "execute_result"
    }
   ],
   "source": [
    "C"
   ]
  },
  {
   "cell_type": "code",
   "execution_count": 167,
   "metadata": {},
   "outputs": [
    {
     "data": {
      "text/plain": [
       "(2, 3)"
      ]
     },
     "execution_count": 167,
     "metadata": {},
     "output_type": "execute_result"
    }
   ],
   "source": [
    "A.shape"
   ]
  },
  {
   "cell_type": "code",
   "execution_count": 168,
   "metadata": {},
   "outputs": [
    {
     "data": {
      "text/plain": [
       "array([[0.85697547, 0.06203644, 0.60549651],\n",
       "       [0.23866629, 0.90083011, 0.40710516]])"
      ]
     },
     "execution_count": 168,
     "metadata": {},
     "output_type": "execute_result"
    }
   ],
   "source": [
    "np.random.random((2,3))"
   ]
  },
  {
   "cell_type": "code",
   "execution_count": 169,
   "metadata": {},
   "outputs": [],
   "source": [
    "#loc = mean, scale = standard deviation\n",
    "a = np.random.normal(loc=1.0, scale=2.0, size=(2,2)) "
   ]
  },
  {
   "cell_type": "code",
   "execution_count": 170,
   "metadata": {},
   "outputs": [
    {
     "data": {
      "text/plain": [
       "array([[ 3.7100602 , -0.32718778],\n",
       "       [ 1.8004524 , -0.26356508]])"
      ]
     },
     "execution_count": 170,
     "metadata": {},
     "output_type": "execute_result"
    }
   ],
   "source": [
    "a"
   ]
  },
  {
   "cell_type": "markdown",
   "metadata": {},
   "source": [
    "* Array Attributes"
   ]
  },
  {
   "cell_type": "code",
   "execution_count": 171,
   "metadata": {},
   "outputs": [],
   "source": [
    "a = np.arange(10).reshape((2,5))"
   ]
  },
  {
   "cell_type": "code",
   "execution_count": 172,
   "metadata": {},
   "outputs": [
    {
     "data": {
      "text/plain": [
       "array([[0, 1, 2, 3, 4],\n",
       "       [5, 6, 7, 8, 9]])"
      ]
     },
     "execution_count": 172,
     "metadata": {},
     "output_type": "execute_result"
    }
   ],
   "source": [
    "a"
   ]
  },
  {
   "cell_type": "code",
   "execution_count": 173,
   "metadata": {},
   "outputs": [
    {
     "data": {
      "text/plain": [
       "2"
      ]
     },
     "execution_count": 173,
     "metadata": {},
     "output_type": "execute_result"
    }
   ],
   "source": [
    "a.ndim "
   ]
  },
  {
   "cell_type": "code",
   "execution_count": 174,
   "metadata": {},
   "outputs": [
    {
     "data": {
      "text/plain": [
       "(2, 5)"
      ]
     },
     "execution_count": 174,
     "metadata": {},
     "output_type": "execute_result"
    }
   ],
   "source": [
    "a.shape"
   ]
  },
  {
   "cell_type": "code",
   "execution_count": 175,
   "metadata": {},
   "outputs": [
    {
     "data": {
      "text/plain": [
       "10"
      ]
     },
     "execution_count": 175,
     "metadata": {},
     "output_type": "execute_result"
    }
   ],
   "source": [
    "a.size"
   ]
  },
  {
   "cell_type": "code",
   "execution_count": 176,
   "metadata": {},
   "outputs": [
    {
     "data": {
      "text/plain": [
       "array([[0, 5],\n",
       "       [1, 6],\n",
       "       [2, 7],\n",
       "       [3, 8],\n",
       "       [4, 9]])"
      ]
     },
     "execution_count": 176,
     "metadata": {},
     "output_type": "execute_result"
    }
   ],
   "source": [
    "a.T"
   ]
  },
  {
   "cell_type": "code",
   "execution_count": 177,
   "metadata": {},
   "outputs": [
    {
     "data": {
      "text/plain": [
       "dtype('int32')"
      ]
     },
     "execution_count": 177,
     "metadata": {},
     "output_type": "execute_result"
    }
   ],
   "source": [
    "a.dtype"
   ]
  },
  {
   "cell_type": "code",
   "execution_count": 178,
   "metadata": {},
   "outputs": [],
   "source": [
    "b = np.arange(10, dtype=np.int32).reshape((2,5))"
   ]
  },
  {
   "cell_type": "code",
   "execution_count": 179,
   "metadata": {},
   "outputs": [
    {
     "data": {
      "text/plain": [
       "dtype('int32')"
      ]
     },
     "execution_count": 179,
     "metadata": {},
     "output_type": "execute_result"
    }
   ],
   "source": [
    "b.dtype"
   ]
  },
  {
   "cell_type": "markdown",
   "metadata": {},
   "source": [
    "#### Matplotlib"
   ]
  },
  {
   "cell_type": "code",
   "execution_count": 189,
   "metadata": {},
   "outputs": [
    {
     "data": {
      "image/png": "[encoded data removed]",
      "text/plain": [
       "<Figure size 432x288 with 1 Axes>"
      ]
     },
     "metadata": {
      "needs_background": "light"
     },
     "output_type": "display_data"
    }
   ],
   "source": [
    "import numpy as np\n",
    "import matplotlib.pyplot as plt\n",
    "\n",
    "x = np.linspace(0, 10, 1000)\n",
    "y = np.power(x, 2)\n",
    "plt.plot(x,y)\n",
    "plt.show()\n"
   ]
  },
  {
   "cell_type": "code",
   "execution_count": 190,
   "metadata": {},
   "outputs": [
    {
     "data": {
      "image/png": "[encoded data removed]",
      "text/plain": [
       "<Figure size 360x288 with 1 Axes>"
      ]
     },
     "metadata": {
      "needs_background": "light"
     },
     "output_type": "display_data"
    }
   ],
   "source": [
    "f, ax = plt.subplots(1,1,figsize=(5,4))\n",
    "x = np.linspace(0, 10, 1000)\n",
    "y = np.power(x,2)\n",
    "ax.plot(x,y)\n",
    "ax.set_xlim((1, 5))     # x-axis limit\n",
    "ax.set_ylim((0, 30))    # y-axis limit\n",
    "ax.set_xlabel('x')      # x-axis label\n",
    "ax.set_ylabel('y')      # y-axis label\n",
    "ax.set_title('title: x^2')\n",
    "\n",
    "plt.tight_layout()      \n",
    "plt.savefig('line_plot.pdf')    # save figure"
   ]
  },
  {
   "cell_type": "markdown",
   "metadata": {},
   "source": [
    "#### Example (Gaussian Distribution)"
   ]
  },
  {
   "cell_type": "markdown",
   "metadata": {},
   "source": [
    "Draw samples from the gaussian distribution"
   ]
  },
  {
   "cell_type": "code",
   "execution_count": 4,
   "metadata": {},
   "outputs": [],
   "source": [
    "import numpy as np\n",
    "mu, sigma = 0, 0.1\n",
    "a = np.random.normal(mu, sigma, 1000)"
   ]
  },
  {
   "cell_type": "code",
   "execution_count": 5,
   "metadata": {},
   "outputs": [
    {
     "name": "stdout",
     "output_type": "stream",
     "text": [
      "[-3.73852169e-02 -1.14619987e-01  2.40662421e-03 -5.37569782e-03\n",
      "  1.16742398e-01  1.17370357e-01 -1.94796606e-01  3.99435078e-02\n",
      " -4.01656873e-02  1.45197695e-01  4.59589680e-02  7.69864411e-03\n",
      "  1.27073539e-01 -2.46065097e-02 -8.39615560e-03 -1.43486471e-01\n",
      "  6.91419403e-02  3.80939919e-02 -1.05082904e-01 -1.23643688e-02\n",
      " -6.10991654e-03 -6.43433646e-04  8.61064186e-02 -1.02335245e-02\n",
      "  4.00262161e-02 -1.22019835e-01  7.21918681e-03 -1.70409040e-01\n",
      "  7.58091456e-02  7.34145261e-02  1.85535556e-01 -3.07723133e-02\n",
      " -8.12655404e-02 -1.95657882e-02 -1.66775692e-01 -1.50474719e-01\n",
      "  2.34967579e-01  1.49921926e-01 -4.90473880e-02 -5.75704361e-02\n",
      "  2.39788740e-02 -5.28398006e-02 -7.05194579e-02 -2.32306620e-01\n",
      "  4.70783548e-02 -7.90134978e-02  5.53391597e-02 -1.45543273e-01\n",
      " -6.06369903e-02 -1.24518894e-01  9.10339591e-03 -9.02621549e-03\n",
      "  8.33061566e-02  1.08057806e-02  1.09010381e-02  2.54714483e-02\n",
      " -1.15078872e-01 -2.40659794e-02 -6.75276899e-02  5.49610345e-02\n",
      " -7.34137405e-02 -4.08848889e-02 -5.54481437e-02  1.13661282e-02\n",
      " -7.58151999e-02  1.80536423e-01  1.01977733e-01  9.57653227e-03\n",
      "  1.11366465e-01 -4.02997769e-02  1.14610252e-01  4.54787864e-02\n",
      " -1.36882336e-03  4.37221080e-02  3.57175275e-02  2.31538893e-01\n",
      " -1.26734270e-01 -5.82058361e-02  4.80488073e-02  3.47889912e-02\n",
      "  1.62762786e-01 -2.39377639e-03  5.41000123e-02  1.53084103e-01\n",
      " -9.56976098e-03  1.62598055e-02 -3.77044414e-02  2.41887683e-02\n",
      "  6.01003470e-02  1.42671335e-01  1.42227597e-01 -5.21054281e-03\n",
      "  1.74686236e-02  1.80783217e-02 -3.84182558e-02  1.60219521e-02\n",
      " -1.23121193e-01  4.21381762e-02 -1.77864799e-01  2.82739995e-02\n",
      " -2.12297493e-02  3.77891451e-02  1.05083315e-01 -1.75894569e-01\n",
      " -1.46300941e-01 -5.34853314e-03  1.01867240e-01  1.37158452e-02\n",
      " -2.04795056e-01  1.29024222e-01  6.25466187e-02  3.06034971e-02\n",
      "  2.76665690e-02  1.38285744e-01 -5.81408212e-02  5.21654481e-02\n",
      "  4.37104816e-02 -6.95411552e-02 -4.48923639e-02  6.90792697e-02\n",
      " -1.54318354e-02  1.54097604e-02  7.53880690e-02 -1.18098162e-01\n",
      "  1.85995683e-01 -1.55865984e-01 -3.33656508e-03  3.02408712e-03\n",
      " -2.29874575e-01 -4.01179123e-02 -1.49316598e-01  1.46652316e-01\n",
      " -1.13099441e-01 -1.12793699e-02  1.10072992e-02 -1.31985155e-01\n",
      " -2.94772835e-02  9.83034658e-03  1.05832314e-01  6.28275943e-02\n",
      "  6.32848952e-02  1.16432301e-01  3.01997391e-01 -1.19181223e-01\n",
      "  1.26687954e-01 -6.85854429e-02  1.35793602e-01  7.95095965e-02\n",
      " -1.01717245e-01  1.19775305e-01 -3.83333430e-03 -1.34190634e-01\n",
      "  8.42238761e-02  3.20544174e-02  1.45584743e-02 -3.70402535e-02\n",
      "  1.13074420e-01  3.81062721e-02 -2.00064472e-01  1.27984236e-01\n",
      "  2.34536421e-01 -7.76286442e-02  3.39411740e-02 -6.94716401e-02\n",
      "  4.22698353e-02  4.42871781e-02  1.27238321e-01  1.25055839e-03\n",
      "  1.08251383e-01  7.50289668e-02 -2.37829732e-01 -2.49754805e-02\n",
      "  1.03024715e-01 -8.11591878e-02  4.06797094e-02  6.00125360e-02\n",
      "  5.09909090e-02 -1.31437359e-01 -6.14033264e-02 -1.62881349e-01\n",
      "  3.80304942e-02 -4.18079330e-02  1.92313869e-01  4.93587363e-04\n",
      "  1.11601815e-01  2.81831240e-02  4.91177675e-02 -1.90128579e-01\n",
      " -1.12732702e-01 -1.70409924e-02 -5.30401867e-02  1.53405694e-01\n",
      " -1.60944977e-01  5.23615546e-02 -4.28658098e-02  6.15655179e-02\n",
      " -6.33490433e-03 -1.04843281e-01 -2.70261849e-01  1.64565516e-02\n",
      "  3.75390111e-02  7.09431119e-02 -2.16076713e-02  4.05924835e-03\n",
      " -1.19812399e-01 -6.78660400e-02  8.66013363e-03  4.62142446e-02\n",
      " -1.07626509e-02 -1.53677335e-01  4.81740207e-02  1.00642980e-01\n",
      "  2.81211278e-01 -1.96315841e-01  1.78777765e-01 -1.33421477e-02\n",
      "  1.59450183e-01 -1.04895593e-01 -2.89378391e-02 -1.27666005e-01\n",
      " -1.54609639e-01 -7.77449645e-02 -2.54766640e-02 -7.38183105e-02\n",
      "  1.34432164e-02 -2.59457001e-02  3.16213570e-01 -2.92600460e-02\n",
      " -4.46374462e-02  5.44976150e-02  9.45119567e-02  4.36522661e-02\n",
      " -7.39357562e-02  6.01128155e-02  5.33358400e-02 -7.82443815e-02\n",
      "  1.78105403e-02 -1.69556504e-01 -8.72234958e-02  1.94696418e-01\n",
      " -9.37210521e-02  4.88223524e-02  2.34883690e-02  5.64369844e-02\n",
      "  1.29366768e-01  1.98900617e-02 -1.11781164e-02  9.40723454e-02\n",
      "  5.14795940e-02 -7.59101441e-02 -1.03889080e-02 -2.25989310e-01\n",
      " -7.87252410e-02 -1.10679323e-01 -1.41292103e-01  1.16758672e-02\n",
      "  1.27648150e-01  3.86730659e-02 -5.98662755e-02 -1.34062109e-01\n",
      "  1.44121956e-01 -2.13606029e-02  2.46898013e-01  1.82917640e-01\n",
      " -6.48020822e-02  1.77771883e-02  5.43944959e-02 -5.70856387e-02\n",
      "  4.64005556e-02  4.64191645e-02 -5.24017074e-02  1.93284855e-01\n",
      "  7.26904957e-02  1.46463628e-01  8.56659290e-02 -8.86374785e-02\n",
      "  7.59565557e-02  6.16011719e-03  5.49697924e-02  8.76916464e-02\n",
      "  8.94508559e-02 -7.58792355e-02 -2.00596195e-01 -4.20642099e-02\n",
      " -1.96827193e-01  1.06558243e-01  8.51991985e-02 -7.17301351e-02\n",
      " -1.31314965e-01 -5.68405788e-02 -2.15319668e-01 -1.69536099e-03\n",
      " -8.57978222e-02 -3.18533312e-02  1.18846069e-03 -9.71713553e-02\n",
      " -8.40055937e-02 -5.63918627e-02 -4.23554134e-03 -4.46694307e-02\n",
      "  2.07253874e-02 -1.62685964e-02 -7.24758995e-03 -2.37950153e-01\n",
      "  1.19832205e-01 -1.33735323e-01 -5.18636279e-02  2.61534530e-02\n",
      "  9.76485392e-02  3.20274904e-02  1.25159240e-01  9.20246145e-04\n",
      "  8.56962897e-02  4.21213087e-02 -6.34915059e-02  1.16723825e-01\n",
      " -4.84141254e-02 -1.07029715e-01  4.37646772e-02 -4.10395504e-02\n",
      "  8.59732243e-02  3.92701872e-02  1.96181070e-01 -4.11707818e-02\n",
      " -7.18289653e-02 -3.22756218e-02  1.12486913e-01 -8.16910298e-02\n",
      " -1.97024079e-01  2.81309428e-02 -3.12678593e-03  1.72333076e-02\n",
      " -3.90780673e-02 -1.21677976e-01  3.74183063e-02  6.25242419e-02\n",
      "  2.40406897e-01  3.50983412e-02 -1.52152796e-01 -1.13302111e-01\n",
      "  9.33935413e-02 -8.08366159e-03  1.08151153e-02  8.78914047e-02\n",
      "  3.13736247e-02  3.26333219e-02 -1.18333507e-01  6.19370388e-02\n",
      "  7.88474008e-02 -7.77353063e-02 -2.02516551e-01 -2.13188172e-01\n",
      " -1.41615838e-01 -9.70876962e-02 -1.15908483e-01  5.62448706e-02\n",
      " -1.83001434e-02 -3.08982037e-01  7.81863569e-02  3.42404130e-02\n",
      " -4.28820422e-02  7.51919354e-02  2.77242079e-02  5.06346307e-02\n",
      " -3.28647723e-02 -1.41073150e-01  5.36172456e-03  5.59164754e-02\n",
      "  6.76093681e-02 -1.68529157e-04  1.19951025e-01  3.31819771e-02\n",
      "  9.57460609e-02  3.77957766e-02  4.14369232e-02 -1.58569881e-01\n",
      "  5.81479414e-02  7.28362428e-02 -1.06925305e-01  7.28887169e-02\n",
      "  1.77962789e-02  2.04061843e-01 -1.43686184e-01  1.35328493e-01\n",
      "  5.68754166e-02  1.63987120e-02 -1.65332368e-01  8.72295360e-02\n",
      "  6.14181729e-02  7.30912908e-02  5.71030215e-02 -6.74957892e-02\n",
      "  6.38212647e-02 -4.42206385e-02  7.19515028e-02  1.93361504e-01\n",
      " -6.03038125e-02  7.63513189e-02 -1.26928892e-01  4.01772018e-02\n",
      "  6.82529599e-02 -7.73064790e-02  8.40598860e-02 -1.15543122e-01\n",
      " -4.18319405e-02 -1.49917751e-01  7.38038882e-02  8.76945116e-02\n",
      " -3.26063321e-02  5.50232111e-02  2.61231573e-03  1.38792004e-01\n",
      " -1.94596023e-01  5.55698570e-02  1.21545400e-01 -2.81639093e-02\n",
      "  6.77111585e-02  1.71125814e-01  1.63234968e-02 -8.02927839e-02\n",
      "  6.90537450e-02 -3.28831781e-02 -1.77418775e-01 -5.77688423e-02\n",
      "  1.39179362e-02  2.60186473e-01  2.03522529e-02 -1.18578841e-01\n",
      "  5.55399495e-02  3.07891115e-03 -1.43398449e-01 -1.69362699e-01\n",
      " -1.24187422e-01  1.35498768e-01  3.48956430e-02  3.51026696e-02\n",
      " -1.04836538e-02  1.25860191e-01  7.15328603e-02 -8.23647765e-02\n",
      " -1.56689459e-01  3.08852249e-02 -1.78802867e-02  2.87379341e-02\n",
      " -1.65858452e-01 -1.78498543e-02  5.24004164e-02  6.93120109e-02\n",
      "  1.27809579e-01 -1.50639070e-01 -3.77238659e-02 -1.67628764e-01\n",
      "  2.00198813e-01 -1.03867123e-01 -1.87051150e-01 -7.72683570e-02\n",
      "  8.49707743e-02 -1.90568363e-01  1.23699474e-01 -8.91342884e-02\n",
      "  7.75494243e-03  1.87473442e-01  9.75093104e-02  7.24370573e-03\n",
      "  1.43047984e-01 -4.49754149e-03 -7.80748252e-02  4.56226856e-02\n",
      "  9.85371719e-02 -2.39855600e-02  3.64818656e-03  2.34659497e-01\n",
      " -6.39961085e-02 -9.81772946e-02 -1.42829268e-02  1.25579551e-02\n",
      " -3.14898028e-02 -1.30007210e-01 -5.63402853e-02  5.52868865e-02\n",
      " -6.74111122e-02  2.04703307e-01 -6.30901001e-02  1.86865650e-01\n",
      " -1.34550824e-01  1.01007327e-02  1.04127144e-01  1.38507123e-01\n",
      "  1.15769634e-01 -5.09378862e-02 -8.70529814e-03  1.00274030e-01\n",
      "  6.32689301e-02 -1.56782010e-01  2.37326869e-02 -9.36613846e-02\n",
      "  1.25211455e-01  2.12136409e-01  6.36154005e-03 -5.63702618e-02\n",
      " -1.03610088e-01 -3.47263698e-02  7.57314343e-02  1.02850397e-01\n",
      "  3.61257135e-02 -1.23211253e-01 -2.09633945e-01  1.27724582e-01\n",
      " -1.45386077e-01  2.55869646e-02  1.50688646e-01  5.29542013e-03\n",
      " -1.33392095e-01 -9.17235512e-02 -1.03552871e-01  9.51766182e-03\n",
      "  2.22075316e-01  5.47835582e-02  1.11784452e-01  6.92865213e-02\n",
      " -9.14294457e-02 -4.98858544e-03 -1.64071820e-03  4.72807867e-02\n",
      " -2.33429360e-01 -1.10273049e-01 -3.53615442e-02 -9.90007288e-02\n",
      " -4.92540482e-02  7.65860596e-02 -1.07851657e-01  7.85019646e-02\n",
      "  8.64899092e-02 -3.23040680e-02  6.42644806e-03  3.98105987e-03\n",
      "  1.37417541e-01  1.48454939e-01 -3.78699735e-02 -9.60645415e-02\n",
      "  6.82623336e-02 -5.80400039e-02  6.97815865e-02  1.13807992e-02\n",
      "  8.73799849e-02 -7.12915735e-03 -5.94230937e-02 -1.23860551e-02\n",
      " -9.09207996e-02  8.31643297e-03  4.56549023e-02 -1.64319026e-01\n",
      "  6.73903364e-02  1.40113833e-01  4.48754920e-02 -8.48410054e-02\n",
      " -1.32985353e-02 -4.18597587e-02 -1.46695272e-01  3.62139624e-02\n",
      "  4.78323509e-02  6.12986172e-02 -1.70819067e-03  2.60601185e-03\n",
      " -7.35328650e-02 -8.85234754e-02 -9.49516391e-02  3.20384779e-02\n",
      "  3.64927890e-01  1.30979293e-01  6.83859029e-02  3.13876033e-03\n",
      "  2.42638040e-01 -1.03534202e-01 -8.82897679e-02 -1.56664718e-02\n",
      " -1.09563325e-01 -8.87122084e-02 -8.70051980e-02  1.02501397e-03\n",
      " -2.19286223e-03 -8.67402390e-02  6.00103225e-02 -7.99728954e-02\n",
      " -4.30032539e-02 -1.58793786e-01 -2.55320384e-02 -4.11998393e-02\n",
      " -6.20493342e-02 -2.38632086e-01 -6.69670683e-02  1.24062778e-01\n",
      "  5.63880466e-02 -1.07643382e-01 -4.79690895e-02 -1.01906892e-01\n",
      "  9.62153631e-02  2.03849176e-01  1.17948608e-01 -2.10048538e-02\n",
      " -4.89093342e-02 -1.33058004e-02 -1.60872365e-02  2.29960518e-02\n",
      " -1.03461508e-01  4.23955999e-02  7.71267846e-02 -2.37825048e-02\n",
      "  1.10068060e-01 -2.17116432e-02 -9.10991997e-02 -6.34717798e-02\n",
      "  1.44903198e-01  9.53059731e-02  5.81373306e-02  8.59911156e-02\n",
      "  2.35315144e-02  3.47033668e-02 -1.00648286e-01  3.93225217e-02\n",
      " -8.90741390e-02 -3.43666451e-02 -1.14306028e-01  6.57454529e-02\n",
      " -6.89895818e-02  2.25807673e-03  8.25373842e-02  1.18308282e-01\n",
      "  2.67693320e-02 -2.62589348e-02 -1.18677716e-01  7.54004858e-02\n",
      "  7.04063352e-02  4.61667201e-02  1.17311931e-01  1.00088012e-01\n",
      "  5.56733995e-03  1.61016177e-01  2.70665575e-02  1.61077208e-01\n",
      "  1.23913604e-01  3.88821367e-03 -1.10341692e-01  1.88018699e-02\n",
      "  5.73902784e-02  7.22500378e-02 -1.60562342e-01 -1.01509715e-01\n",
      "  1.34449317e-01  6.16940274e-02  2.05104492e-02 -2.02188860e-02\n",
      " -7.54591996e-02 -1.52627919e-01 -1.07009754e-02  8.33202839e-02\n",
      " -6.35679900e-02 -1.84922497e-02  4.99059540e-02  8.78403997e-02\n",
      " -1.08399167e-01  1.11972824e-01 -2.14265628e-01  2.19159932e-01\n",
      " -5.36477607e-02 -4.55903328e-02  4.58087319e-02  7.09066558e-02\n",
      "  1.11657640e-01 -2.52288023e-02 -8.44703509e-02  3.80329798e-02\n",
      " -2.38081297e-02 -8.33871031e-02  1.46952903e-03 -8.10181947e-02\n",
      " -5.44030163e-02 -5.18840167e-03 -6.17264333e-02 -1.55620398e-02\n",
      "  1.05735529e-01  1.77364141e-02  1.42926817e-01 -8.64702116e-02\n",
      " -3.70724489e-02  7.28039212e-02 -1.65547715e-01 -6.51021729e-02\n",
      "  6.65645494e-02  9.74000452e-02 -2.97874205e-02 -2.06345786e-01\n",
      " -1.41173729e-01 -3.39916069e-02  7.21073138e-02 -7.70293400e-02\n",
      " -4.64391586e-03  2.44071068e-03 -1.15320532e-01 -1.17879365e-01\n",
      "  8.66629224e-02 -7.49923114e-02  4.65188040e-02 -6.17656991e-02\n",
      " -4.06716044e-02  6.78967411e-02  1.16053482e-01 -1.35680790e-01\n",
      "  1.06787745e-01 -3.01207877e-02  6.91218727e-02 -4.31756622e-02\n",
      "  7.63089045e-03 -2.22747815e-02  3.21226561e-02  1.08010423e-01\n",
      " -2.39050498e-01  6.03021120e-02  7.39444248e-03 -1.34139829e-01\n",
      "  8.61905023e-02  7.34132132e-02 -6.78288838e-02  1.13469221e-01\n",
      " -2.77148389e-03 -2.61984660e-01 -7.20659149e-02  1.43483265e-01\n",
      " -1.38319247e-01  3.79821833e-02 -1.01009824e-01  2.66702675e-02\n",
      " -3.86136116e-02  1.43992984e-01  5.72583978e-02  3.61103558e-02\n",
      "  1.54925669e-01  1.20663816e-02  4.27250410e-02  5.41236288e-02\n",
      " -7.01892561e-02 -8.45170804e-02 -5.67771969e-02  6.62456348e-02\n",
      " -3.29936403e-03 -2.79350881e-02 -6.87471441e-02  6.99496993e-02\n",
      "  1.86620186e-02 -9.30800340e-02  8.31670866e-02  4.95870838e-02\n",
      "  1.51565346e-01 -1.89727367e-01  7.45984401e-02  1.07450406e-01\n",
      " -6.49103588e-02 -6.94525165e-02  1.67944489e-01  6.25173992e-02\n",
      " -2.46471235e-02  5.93140840e-02 -7.36685293e-02 -7.25450413e-02\n",
      "  3.86015150e-02  4.22578587e-02 -1.93174324e-01 -1.74004838e-01\n",
      " -6.88623829e-02  1.56070265e-02 -1.37866136e-03 -4.94514058e-02\n",
      "  2.73336688e-02  2.25155185e-02 -4.37864392e-02 -1.32365584e-01\n",
      "  3.47929528e-02  7.83991354e-02 -7.70394507e-02  6.62695766e-03\n",
      "  9.98222067e-02 -3.60881531e-02 -8.42200391e-02 -4.36388840e-02\n",
      " -1.21463226e-01 -1.07621124e-02  7.84861849e-02  1.72149690e-01\n",
      "  8.19612282e-02 -2.69203771e-02 -1.07954002e-01 -2.72812674e-02\n",
      " -7.18701114e-02 -5.63688869e-02  3.60903442e-02 -1.29837026e-01\n",
      "  9.53331384e-02 -6.20365110e-02  4.49053138e-02 -1.07550915e-01\n",
      " -4.86268324e-02  8.90846262e-02 -9.39160801e-02 -1.04712370e-01\n",
      "  1.35907378e-01  1.25277378e-01  6.74783135e-02  2.01476987e-01\n",
      "  1.37301631e-01  1.83941797e-01 -7.31395508e-02  1.42561167e-01\n",
      " -3.69716783e-02 -1.31905527e-02  1.06212331e-01  4.06107479e-02\n",
      " -1.87365607e-02  1.78812147e-02  4.08588126e-02  4.42353182e-02\n",
      "  2.69036394e-02 -9.51974089e-02 -1.15599214e-01  1.62084050e-01\n",
      "  1.01635367e-01  8.63797802e-03  1.69289043e-02  6.66390967e-02\n",
      " -1.93881882e-02 -8.89784915e-02 -7.26445200e-02  1.64373991e-01\n",
      " -8.35183511e-02 -8.63203778e-02 -1.15343844e-01 -1.21220307e-01\n",
      " -2.98352273e-03  4.70864910e-02  8.74373529e-03 -8.14457905e-03\n",
      "  9.14388970e-03  4.65776547e-02 -7.04701185e-02  2.23176313e-02\n",
      " -1.59953504e-01  7.04544988e-02 -7.08296486e-02  6.48509378e-02\n",
      "  1.70563572e-02  1.10569311e-01  1.00759562e-01  2.25122337e-01\n",
      " -4.84899435e-02 -3.04290657e-03 -6.60226121e-02  5.19486325e-02\n",
      "  1.04114198e-01  8.47787013e-02  5.34561083e-02  1.36545332e-01\n",
      "  1.23276538e-01 -1.88690718e-01  3.57566572e-02  1.39103142e-01\n",
      " -3.77418771e-02  8.16815339e-02  6.36612114e-03 -3.71022520e-02\n",
      "  2.48008261e-02 -1.49271976e-01 -5.85144660e-02 -1.14897540e-01\n",
      " -1.30917637e-01  6.85881180e-02 -1.32600049e-01 -6.66697586e-02\n",
      " -2.53985294e-02 -1.16290556e-02  1.56095422e-02 -7.11171917e-02\n",
      " -5.30793011e-02  5.45934655e-02 -1.45173577e-02 -2.20384614e-02\n",
      " -1.38311741e-01  2.25744861e-01 -7.99141841e-02  2.32409586e-01\n",
      "  3.98400669e-02 -1.25002276e-01 -6.11224313e-02  5.49706061e-03\n",
      " -1.04920994e-01  7.22065684e-02 -8.65606262e-02  2.08123096e-01\n",
      "  9.48043367e-02 -7.69683552e-02 -2.97013595e-02 -4.26113004e-02\n",
      " -1.66997563e-02  1.28478987e-03  1.76920610e-01  1.54335237e-01\n",
      "  1.35577356e-01  1.20823002e-01  9.81540035e-02 -7.73991475e-03\n",
      "  4.66140150e-02 -2.08376578e-02 -1.45849495e-01  7.99711282e-02\n",
      " -4.61573396e-02 -6.18663263e-02  3.42415562e-02  1.26421844e-01\n",
      "  1.64948268e-02  4.52929474e-02 -1.11051612e-02 -1.13835477e-01\n",
      "  1.88745259e-02  1.33872883e-01  2.96490331e-02 -1.79972762e-02\n",
      "  6.72074726e-02  7.96873431e-02 -3.50317590e-02 -2.08076605e-02\n",
      "  5.21116715e-02 -2.47127062e-02  2.06756456e-02  5.82700607e-02\n",
      " -1.25168106e-01  6.38299316e-02 -9.96649061e-02  1.51252511e-01\n",
      "  9.90631704e-02  1.92276534e-02  3.04313149e-02  6.90149449e-02\n",
      " -3.59678168e-02  6.85607050e-02 -8.25800482e-02  1.06685762e-01\n",
      " -1.11986238e-01 -2.27314641e-01  1.60998184e-01 -1.22505039e-01\n",
      " -8.51999590e-02 -1.64403687e-01  6.70454224e-03  3.11661945e-02\n",
      "  5.99405697e-02  5.13600196e-02  1.72011891e-01 -4.49821218e-02\n",
      " -1.02336700e-01  7.94175905e-02  7.79484622e-02  2.98542358e-03\n",
      " -1.70399910e-01  2.39103459e-01  1.29911611e-01 -2.84576584e-02\n",
      "  4.34601254e-02 -1.38936625e-01 -2.77183495e-01 -7.94495310e-03\n",
      "  1.20573685e-01 -5.24128118e-02 -1.17462848e-01  9.56969099e-02\n",
      "  2.12754240e-02  8.55089487e-02 -1.01390465e-01  5.26505624e-03\n",
      "  7.42339351e-02 -1.01402369e-01  3.58017435e-03 -7.40817760e-02\n",
      "  1.06774012e-01 -1.06886903e-01 -7.77693477e-02 -9.74788768e-02\n",
      "  1.41359787e-01 -2.82981636e-02  3.55664446e-02 -4.12810090e-03\n",
      " -1.01013539e-01  2.21654905e-02  9.07171992e-02  4.61409543e-02\n",
      " -1.01110462e-01  1.54772595e-01 -1.10582109e-02 -2.22469013e-02\n",
      " -3.73358018e-02 -3.51995557e-02 -1.25283517e-01 -2.32581695e-03]\n"
     ]
    }
   ],
   "source": [
    "print(a)"
   ]
  },
  {
   "cell_type": "code",
   "execution_count": 6,
   "metadata": {},
   "outputs": [
    {
     "name": "stdout",
     "output_type": "stream",
     "text": [
      "1\n",
      "(1000,)\n",
      "1000\n"
     ]
    }
   ],
   "source": [
    "print(a.ndim)\n",
    "print(a.shape)\n",
    "print(a.size)"
   ]
  },
  {
   "cell_type": "markdown",
   "metadata": {},
   "source": [
    "Verify the mean and the variance"
   ]
  },
  {
   "cell_type": "code",
   "execution_count": 7,
   "metadata": {},
   "outputs": [
    {
     "data": {
      "text/plain": [
       "0.0016114779610943313"
      ]
     },
     "execution_count": 7,
     "metadata": {},
     "output_type": "execute_result"
    }
   ],
   "source": [
    "abs(mu - np.mean(a))"
   ]
  },
  {
   "cell_type": "code",
   "execution_count": 8,
   "metadata": {},
   "outputs": [
    {
     "data": {
      "text/plain": [
       "0.0007215581749827338"
      ]
     },
     "execution_count": 8,
     "metadata": {},
     "output_type": "execute_result"
    }
   ],
   "source": [
    "abs(sigma - np.std(a, ddof=1))"
   ]
  },
  {
   "cell_type": "markdown",
   "metadata": {},
   "source": [
    "Display the histogram of the samples"
   ]
  },
  {
   "cell_type": "code",
   "execution_count": 12,
   "metadata": {},
   "outputs": [
    {
     "ename": "ModuleNotFoundError",
     "evalue": "No module named 'matplotlib'",
     "output_type": "error",
     "traceback": [
      "\u001b[1;31m---------------------------------------------------------------------------\u001b[0m",
      "\u001b[1;31mModuleNotFoundError\u001b[0m                       Traceback (most recent call last)",
      "Input \u001b[1;32mIn [12]\u001b[0m, in \u001b[0;36m<cell line: 1>\u001b[1;34m()\u001b[0m\n\u001b[1;32m----> 1\u001b[0m \u001b[38;5;28;01mimport\u001b[39;00m \u001b[38;5;21;01mmatplotlib\u001b[39;00m\u001b[38;5;21;01m.\u001b[39;00m\u001b[38;5;21;01mpyplot\u001b[39;00m \u001b[38;5;28;01mas\u001b[39;00m \u001b[38;5;21;01mplt\u001b[39;00m\n\u001b[0;32m      2\u001b[0m coutn, bins, ignored \u001b[38;5;241m=\u001b[39m plt\u001b[38;5;241m.\u001b[39mhist(a, \u001b[38;5;241m30\u001b[39m, density\u001b[38;5;241m=\u001b[39m\u001b[38;5;28;01mTrue\u001b[39;00m)\n\u001b[0;32m      3\u001b[0m plt\u001b[38;5;241m.\u001b[39mplot(bins, \u001b[38;5;241m1\u001b[39m\u001b[38;5;241m/\u001b[39m(sigma \u001b[38;5;241m*\u001b[39m np\u001b[38;5;241m.\u001b[39msqrt(\u001b[38;5;241m2\u001b[39m \u001b[38;5;241m*\u001b[39m np\u001b[38;5;241m.\u001b[39mpi)) \u001b[38;5;241m*\u001b[39m np\u001b[38;5;241m.\u001b[39mexp(\u001b[38;5;241m-\u001b[39m(bins \u001b[38;5;241m-\u001b[39m mu)\u001b[38;5;241m*\u001b[39m\u001b[38;5;241m*\u001b[39m\u001b[38;5;241m2\u001b[39m \u001b[38;5;241m/\u001b[39m (\u001b[38;5;241m2\u001b[39m \u001b[38;5;241m*\u001b[39m sigma\u001b[38;5;241m*\u001b[39m\u001b[38;5;241m*\u001b[39m\u001b[38;5;241m2\u001b[39m)), linewidth\u001b[38;5;241m=\u001b[39m\u001b[38;5;241m2\u001b[39m, color\u001b[38;5;241m=\u001b[39m\u001b[38;5;124m'\u001b[39m\u001b[38;5;124mr\u001b[39m\u001b[38;5;124m'\u001b[39m)\n",
      "\u001b[1;31mModuleNotFoundError\u001b[0m: No module named 'matplotlib'"
     ]
    }
   ],
   "source": [
    "import matplotlib.pyplot as plt\n",
    "coutn, bins, ignored = plt.hist(a, 30, density=True)\n",
    "plt.plot(bins, 1/(sigma * np.sqrt(2 * np.pi)) * np.exp(-(bins - mu)**2 / (2 * sigma**2)), linewidth=2, color='r')\n",
    "plt.show()"
   ]
  },
  {
   "cell_type": "code",
   "execution_count": null,
   "metadata": {},
   "outputs": [],
   "source": []
  }
 ],
 "metadata": {
  "interpreter": {
   "hash": "4638f87a8ff492da27c0f883259d2610e723a6690858f93c818c7ea98300e75d"
  },
  "kernelspec": {
   "display_name": "Python 3 (ipykernel)",
   "language": "python",
   "name": "python3"
  },
  "language_info": {
   "codemirror_mode": {
    "name": "ipython",
    "version": 3
   },
   "file_extension": ".py",
   "mimetype": "text/x-python",
   "name": "python",
   "nbconvert_exporter": "python",
   "pygments_lexer": "ipython3",
   "version": "3.10.2"
  }
 },
 "nbformat": 4,
 "nbformat_minor": 2
}
